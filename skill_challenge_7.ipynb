{
 "cells": [
  {
   "cell_type": "code",
   "execution_count": 135,
   "id": "e3c9fcab",
   "metadata": {},
   "outputs": [],
   "source": [
    "class BankAccount:\n",
    "    def __init__(self, initial_balance=0):\n",
    "        if not initial_balance >= 0:\n",
    "            raise ValueError(\"Please enter a positive amount.\")\n",
    "            \n",
    "        self.initial_balance = initial_balance\n",
    "        self._balance = initial_balance\n",
    "    \n",
    "    @property\n",
    "    def balance(self):\n",
    "        return self._balance\n",
    "    \n",
    "    def deposit(self, amount):\n",
    "        if not amount >= 0:\n",
    "            raise ValueError(\"Please enter a positive amount.\")\n",
    "        \n",
    "        self._balance += amount\n",
    "        \n",
    "        print(f\"Deposited ${amount}\")\n",
    "        \n",
    "    \n",
    "    def withdraw(self, amount):\n",
    "        if not amount >= 0:\n",
    "            raise ValueError(\"Please enter a positive amount.\")\n",
    "        \n",
    "        self._balance -= amount\n",
    "        \n",
    "        print(f\"Withdrew ${amount}\")\n",
    "    \n",
    "    def __repr__(self):\n",
    "        return f\"A BankAccount with ${self._balance} in it.\""
   ]
  },
  {
   "cell_type": "code",
   "execution_count": 136,
   "id": "829f11de",
   "metadata": {},
   "outputs": [],
   "source": [
    "class Savings(BankAccount):\n",
    "    INTEREST_RATE = 0.0035\n",
    "    \n",
    "    def pay_interest(self):\n",
    "        self.deposit(self.INTEREST_RATE * self._balance)\n",
    "    \n",
    "    def __repr__(self):\n",
    "        return f\"A SavingsBankAccount with ${self._balance} in it.\""
   ]
  },
  {
   "cell_type": "code",
   "execution_count": 137,
   "id": "469a4156",
   "metadata": {},
   "outputs": [],
   "source": [
    "class HighInterest(Savings):\n",
    "    INTEREST_RATE = 0.007\n",
    "\n",
    "    def __init__(self, initial_balance=0, withdrawal_fee=5):\n",
    "        super().__init__(initial_balance)\n",
    "        self.withdrawal_fee = withdrawal_fee\n",
    "    \n",
    "    def withdraw(self, amount):\n",
    "        super().withdraw(amount)\n",
    "        \n",
    "        self._balance -= self.withdrawal_fee\n",
    "    \n",
    "    def __repr__(self):\n",
    "        return f\"A HighInterestSavingsBankAccount with ${self._balance} in it.\""
   ]
  },
  {
   "cell_type": "code",
   "execution_count": 138,
   "id": "291be459",
   "metadata": {},
   "outputs": [],
   "source": [
    "class LockedIn(HighInterest):\n",
    "    INTEREST_RATE = 0.009\n",
    "    \n",
    "    def withdraw(self, amount):\n",
    "        print(\"Unable to withdraw. You're locked in!\")\n",
    "    \n",
    "    def __repr__(self):\n",
    "        return f\"A LockedInHighInterestSavingsBankAccount with ${self._balance} in it.\""
   ]
  },
  {
   "cell_type": "code",
   "execution_count": 139,
   "id": "ca2e650b",
   "metadata": {},
   "outputs": [],
   "source": [
    "b = BankAccount(100)"
   ]
  },
  {
   "cell_type": "code",
   "execution_count": 140,
   "id": "aca7bf98",
   "metadata": {},
   "outputs": [
    {
     "data": {
      "text/plain": [
       "A BankAccount with $100 in it."
      ]
     },
     "execution_count": 140,
     "metadata": {},
     "output_type": "execute_result"
    }
   ],
   "source": [
    "b"
   ]
  },
  {
   "cell_type": "code",
   "execution_count": 141,
   "id": "ab042c40",
   "metadata": {},
   "outputs": [
    {
     "name": "stdout",
     "output_type": "stream",
     "text": [
      "Deposited $2\n"
     ]
    }
   ],
   "source": [
    "b.deposit(2)"
   ]
  },
  {
   "cell_type": "code",
   "execution_count": 142,
   "id": "c61635fe",
   "metadata": {},
   "outputs": [
    {
     "name": "stdout",
     "output_type": "stream",
     "text": [
      "Withdrew $70\n"
     ]
    }
   ],
   "source": [
    "b.withdraw(70)"
   ]
  },
  {
   "cell_type": "code",
   "execution_count": 143,
   "id": "f3b5955f",
   "metadata": {},
   "outputs": [
    {
     "data": {
      "text/plain": [
       "A BankAccount with $32 in it."
      ]
     },
     "execution_count": 143,
     "metadata": {},
     "output_type": "execute_result"
    }
   ],
   "source": [
    "b"
   ]
  },
  {
   "cell_type": "code",
   "execution_count": 144,
   "id": "a0ef7dfb",
   "metadata": {},
   "outputs": [],
   "source": [
    "s = Savings(140)"
   ]
  },
  {
   "cell_type": "code",
   "execution_count": 145,
   "id": "e6683dcb",
   "metadata": {},
   "outputs": [
    {
     "data": {
      "text/plain": [
       "A SavingsBankAccount with $140 in it."
      ]
     },
     "execution_count": 145,
     "metadata": {},
     "output_type": "execute_result"
    }
   ],
   "source": [
    "s"
   ]
  },
  {
   "cell_type": "code",
   "execution_count": 146,
   "id": "2a62892b",
   "metadata": {},
   "outputs": [
    {
     "name": "stdout",
     "output_type": "stream",
     "text": [
      "Deposited $0.49\n"
     ]
    }
   ],
   "source": [
    "s.pay_interest()"
   ]
  },
  {
   "cell_type": "code",
   "execution_count": 147,
   "id": "c8a815bd",
   "metadata": {},
   "outputs": [
    {
     "data": {
      "text/plain": [
       "A SavingsBankAccount with $140.49 in it."
      ]
     },
     "execution_count": 147,
     "metadata": {},
     "output_type": "execute_result"
    }
   ],
   "source": [
    "s"
   ]
  },
  {
   "cell_type": "code",
   "execution_count": 148,
   "id": "3ea1b0ba",
   "metadata": {},
   "outputs": [],
   "source": [
    "hi = HighInterest(withdrawal_fee=3)"
   ]
  },
  {
   "cell_type": "code",
   "execution_count": 149,
   "id": "3de70132",
   "metadata": {},
   "outputs": [
    {
     "data": {
      "text/plain": [
       "0"
      ]
     },
     "execution_count": 149,
     "metadata": {},
     "output_type": "execute_result"
    }
   ],
   "source": [
    "hi.balance"
   ]
  },
  {
   "cell_type": "code",
   "execution_count": 150,
   "id": "203b9136",
   "metadata": {},
   "outputs": [
    {
     "name": "stdout",
     "output_type": "stream",
     "text": [
      "Deposited $2400\n"
     ]
    }
   ],
   "source": [
    "hi.deposit(2400)"
   ]
  },
  {
   "cell_type": "code",
   "execution_count": 151,
   "id": "a27b9535",
   "metadata": {},
   "outputs": [
    {
     "data": {
      "text/plain": [
       "2400"
      ]
     },
     "execution_count": 151,
     "metadata": {},
     "output_type": "execute_result"
    }
   ],
   "source": [
    "hi.balance"
   ]
  },
  {
   "cell_type": "code",
   "execution_count": 153,
   "id": "d0df6b6a",
   "metadata": {},
   "outputs": [
    {
     "data": {
      "text/plain": [
       "A HighInterestSavingsBankAccount with $2400 in it."
      ]
     },
     "execution_count": 153,
     "metadata": {},
     "output_type": "execute_result"
    }
   ],
   "source": [
    "hi"
   ]
  },
  {
   "cell_type": "code",
   "execution_count": null,
   "id": "478532cd",
   "metadata": {},
   "outputs": [],
   "source": []
  }
 ],
 "metadata": {
  "kernelspec": {
   "display_name": "Python 3 (ipykernel)",
   "language": "python",
   "name": "python3"
  },
  "language_info": {
   "codemirror_mode": {
    "name": "ipython",
    "version": 3
   },
   "file_extension": ".py",
   "mimetype": "text/x-python",
   "name": "python",
   "nbconvert_exporter": "python",
   "pygments_lexer": "ipython3",
   "version": "3.9.7"
  }
 },
 "nbformat": 4,
 "nbformat_minor": 5
}
